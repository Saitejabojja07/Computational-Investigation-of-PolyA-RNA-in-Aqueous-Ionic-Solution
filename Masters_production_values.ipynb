{
  "cells": [
    {
      "cell_type": "code",
      "execution_count": 3,
      "metadata": {
        "colab": {
          "base_uri": "https://localhost:8080/"
        },
        "id": "TBwgTxBNEBcg",
        "outputId": "ddce574c-d3d7-475c-b626-dedfe2b064b8"
      },
      "outputs": [
        {
          "name": "stdout",
          "output_type": "stream",
          "text": [
            "Conversion completed. CSV file saved as: ade-water.csv\n"
          ]
        }
      ],
      "source": [
        "import pandas as pd\n",
        "\n",
        "# Path to the XVG file\n",
        "xvg_file_path = 'one_molar\\hbond-ade-water.xvg'\n",
        "\n",
        "# Read the XVG file, skip header lines, and extract data into a DataFrame\n",
        "with open(xvg_file_path, 'r') as file:\n",
        "    lines = file.readlines()\n",
        "\n",
        "# Find the line where the actual data starts\n",
        "start_index = 0\n",
        "\n",
        "# Extract data into a DataFrame\n",
        "data = [line.strip().split() for line in lines[start_index+1:]]\n",
        "df = pd.DataFrame(data, columns=['Time', 'val','1'])\n",
        "\n",
        "df = df.drop(columns=['1'])\n",
        "df[['Time', 'val']] = df[['Time', 'val']].apply(pd.to_numeric)\n",
        "\n",
        "# Save the DataFrame to a CSV file\n",
        "csv_file_path = 'ade-water.csv'\n",
        "df.to_csv(csv_file_path, index=False)\n",
        "\n",
        "print(f'Conversion completed. CSV file saved as: {csv_file_path}')\n"
      ]
    },
    {
      "cell_type": "code",
      "execution_count": 4,
      "metadata": {
        "colab": {
          "base_uri": "https://localhost:8080/",
          "height": 206
        },
        "id": "TS8uKdW0EJV3",
        "outputId": "09ce2efe-d87f-44b3-c3de-c99d907df554"
      },
      "outputs": [
        {
          "data": {
            "text/html": [
              "<div>\n",
              "<style scoped>\n",
              "    .dataframe tbody tr th:only-of-type {\n",
              "        vertical-align: middle;\n",
              "    }\n",
              "\n",
              "    .dataframe tbody tr th {\n",
              "        vertical-align: top;\n",
              "    }\n",
              "\n",
              "    .dataframe thead th {\n",
              "        text-align: right;\n",
              "    }\n",
              "</style>\n",
              "<table border=\"1\" class=\"dataframe\">\n",
              "  <thead>\n",
              "    <tr style=\"text-align: right;\">\n",
              "      <th></th>\n",
              "      <th>Time</th>\n",
              "      <th>val</th>\n",
              "    </tr>\n",
              "  </thead>\n",
              "  <tbody>\n",
              "    <tr>\n",
              "      <th>0</th>\n",
              "      <td>20.0</td>\n",
              "      <td>236</td>\n",
              "    </tr>\n",
              "    <tr>\n",
              "      <th>1</th>\n",
              "      <td>40.0</td>\n",
              "      <td>233</td>\n",
              "    </tr>\n",
              "    <tr>\n",
              "      <th>2</th>\n",
              "      <td>60.0</td>\n",
              "      <td>233</td>\n",
              "    </tr>\n",
              "    <tr>\n",
              "      <th>3</th>\n",
              "      <td>80.0</td>\n",
              "      <td>232</td>\n",
              "    </tr>\n",
              "    <tr>\n",
              "      <th>4</th>\n",
              "      <td>100.0</td>\n",
              "      <td>219</td>\n",
              "    </tr>\n",
              "  </tbody>\n",
              "</table>\n",
              "</div>"
            ],
            "text/plain": [
              "    Time  val\n",
              "0   20.0  236\n",
              "1   40.0  233\n",
              "2   60.0  233\n",
              "3   80.0  232\n",
              "4  100.0  219"
            ]
          },
          "execution_count": 4,
          "metadata": {},
          "output_type": "execute_result"
        }
      ],
      "source": [
        "df.head()"
      ]
    },
    {
      "cell_type": "markdown",
      "metadata": {
        "id": "ev8Cy46VkzOo"
      },
      "source": [
        "### RMSD"
      ]
    },
    {
      "cell_type": "code",
      "execution_count": 9,
      "metadata": {
        "id": "74fHIQqQEFPL"
      },
      "outputs": [],
      "source": [
        "import numpy\n",
        "import matplotlib.pyplot as plt\n",
        "import pandas as pd"
      ]
    },
    {
      "cell_type": "code",
      "execution_count": 74,
      "metadata": {
        "id": "8clgSpwmEneW"
      },
      "outputs": [],
      "source": [
        "data = pd.read_csv(\"rmsd.csv\")"
      ]
    },
    {
      "cell_type": "code",
      "execution_count": 75,
      "metadata": {
        "colab": {
          "base_uri": "https://localhost:8080/"
        },
        "id": "PoXFUwTtHlIj",
        "outputId": "50db1e05-ca66-433f-8dfe-ca986990fed5"
      },
      "outputs": [
        {
          "data": {
            "text/plain": [
              "Index(['Time', 'val'], dtype='object')"
            ]
          },
          "execution_count": 75,
          "metadata": {},
          "output_type": "execute_result"
        }
      ],
      "source": [
        "data.columns"
      ]
    },
    {
      "cell_type": "code",
      "execution_count": 76,
      "metadata": {
        "colab": {
          "base_uri": "https://localhost:8080/",
          "height": 424
        },
        "id": "TWPPPymQFy3e",
        "outputId": "058e4a3c-e4c6-4a28-f719-6dd59122e152"
      },
      "outputs": [
        {
          "data": {
            "text/html": [
              "<div>\n",
              "<style scoped>\n",
              "    .dataframe tbody tr th:only-of-type {\n",
              "        vertical-align: middle;\n",
              "    }\n",
              "\n",
              "    .dataframe tbody tr th {\n",
              "        vertical-align: top;\n",
              "    }\n",
              "\n",
              "    .dataframe thead th {\n",
              "        text-align: right;\n",
              "    }\n",
              "</style>\n",
              "<table border=\"1\" class=\"dataframe\">\n",
              "  <thead>\n",
              "    <tr style=\"text-align: right;\">\n",
              "      <th></th>\n",
              "      <th>Time</th>\n",
              "      <th>val</th>\n",
              "    </tr>\n",
              "  </thead>\n",
              "  <tbody>\n",
              "    <tr>\n",
              "      <th>0</th>\n",
              "      <td>20.0</td>\n",
              "      <td>0.109699</td>\n",
              "    </tr>\n",
              "    <tr>\n",
              "      <th>1</th>\n",
              "      <td>40.0</td>\n",
              "      <td>0.155153</td>\n",
              "    </tr>\n",
              "    <tr>\n",
              "      <th>2</th>\n",
              "      <td>60.0</td>\n",
              "      <td>0.208159</td>\n",
              "    </tr>\n",
              "    <tr>\n",
              "      <th>3</th>\n",
              "      <td>80.0</td>\n",
              "      <td>0.242039</td>\n",
              "    </tr>\n",
              "    <tr>\n",
              "      <th>4</th>\n",
              "      <td>100.0</td>\n",
              "      <td>0.257169</td>\n",
              "    </tr>\n",
              "    <tr>\n",
              "      <th>...</th>\n",
              "      <td>...</td>\n",
              "      <td>...</td>\n",
              "    </tr>\n",
              "    <tr>\n",
              "      <th>49990</th>\n",
              "      <td>999820.0</td>\n",
              "      <td>1.122420</td>\n",
              "    </tr>\n",
              "    <tr>\n",
              "      <th>49991</th>\n",
              "      <td>999840.0</td>\n",
              "      <td>1.114373</td>\n",
              "    </tr>\n",
              "    <tr>\n",
              "      <th>49992</th>\n",
              "      <td>999860.0</td>\n",
              "      <td>1.101424</td>\n",
              "    </tr>\n",
              "    <tr>\n",
              "      <th>49993</th>\n",
              "      <td>999880.0</td>\n",
              "      <td>1.104749</td>\n",
              "    </tr>\n",
              "    <tr>\n",
              "      <th>49994</th>\n",
              "      <td>999900.0</td>\n",
              "      <td>1.107147</td>\n",
              "    </tr>\n",
              "  </tbody>\n",
              "</table>\n",
              "<p>49995 rows × 2 columns</p>\n",
              "</div>"
            ],
            "text/plain": [
              "           Time       val\n",
              "0          20.0  0.109699\n",
              "1          40.0  0.155153\n",
              "2          60.0  0.208159\n",
              "3          80.0  0.242039\n",
              "4         100.0  0.257169\n",
              "...         ...       ...\n",
              "49990  999820.0  1.122420\n",
              "49991  999840.0  1.114373\n",
              "49992  999860.0  1.101424\n",
              "49993  999880.0  1.104749\n",
              "49994  999900.0  1.107147\n",
              "\n",
              "[49995 rows x 2 columns]"
            ]
          },
          "execution_count": 76,
          "metadata": {},
          "output_type": "execute_result"
        }
      ],
      "source": [
        "data.head(-5)"
      ]
    },
    {
      "cell_type": "code",
      "execution_count": 77,
      "metadata": {
        "colab": {
          "base_uri": "https://localhost:8080/",
          "height": 206
        },
        "id": "5TNctqICJtfd",
        "outputId": "ecc5efe5-6317-4e62-98f6-459d7dbbe053"
      },
      "outputs": [
        {
          "data": {
            "text/html": [
              "<div>\n",
              "<style scoped>\n",
              "    .dataframe tbody tr th:only-of-type {\n",
              "        vertical-align: middle;\n",
              "    }\n",
              "\n",
              "    .dataframe tbody tr th {\n",
              "        vertical-align: top;\n",
              "    }\n",
              "\n",
              "    .dataframe thead th {\n",
              "        text-align: right;\n",
              "    }\n",
              "</style>\n",
              "<table border=\"1\" class=\"dataframe\">\n",
              "  <thead>\n",
              "    <tr style=\"text-align: right;\">\n",
              "      <th></th>\n",
              "      <th>Time</th>\n",
              "      <th>Ang</th>\n",
              "    </tr>\n",
              "  </thead>\n",
              "  <tbody>\n",
              "    <tr>\n",
              "      <th>0</th>\n",
              "      <td>20.0</td>\n",
              "      <td>1.096987</td>\n",
              "    </tr>\n",
              "    <tr>\n",
              "      <th>1</th>\n",
              "      <td>40.0</td>\n",
              "      <td>1.551528</td>\n",
              "    </tr>\n",
              "    <tr>\n",
              "      <th>2</th>\n",
              "      <td>60.0</td>\n",
              "      <td>2.081589</td>\n",
              "    </tr>\n",
              "    <tr>\n",
              "      <th>3</th>\n",
              "      <td>80.0</td>\n",
              "      <td>2.420387</td>\n",
              "    </tr>\n",
              "    <tr>\n",
              "      <th>4</th>\n",
              "      <td>100.0</td>\n",
              "      <td>2.571685</td>\n",
              "    </tr>\n",
              "  </tbody>\n",
              "</table>\n",
              "</div>"
            ],
            "text/plain": [
              "    Time       Ang\n",
              "0   20.0  1.096987\n",
              "1   40.0  1.551528\n",
              "2   60.0  2.081589\n",
              "3   80.0  2.420387\n",
              "4  100.0  2.571685"
            ]
          },
          "execution_count": 77,
          "metadata": {},
          "output_type": "execute_result"
        }
      ],
      "source": [
        "data.columns = ['Time','Ang']\n",
        "data['Ang']=10*data['Ang']\n",
        "data.head()"
      ]
    },
    {
      "cell_type": "markdown",
      "metadata": {
        "id": "XDNvqFTXlGwj"
      },
      "source": [
        "#### Histogram"
      ]
    },
    {
      "cell_type": "code",
      "execution_count": 26,
      "metadata": {
        "colab": {
          "base_uri": "https://localhost:8080/",
          "height": 472
        },
        "id": "Wcp_z2GOKS21",
        "outputId": "331c1c4b-ebea-4bdf-e90d-a7fc938e7e05"
      },
      "outputs": [
        {
          "data": {
            "image/png": "[encoded data removed]",
            "text/plain": [
              "<Figure size 640x480 with 1 Axes>"
            ]
          },
          "metadata": {},
          "output_type": "display_data"
        }
      ],
      "source": [
        "plt.hist(data['Ang'])\n",
        "plt.xlabel('values_angstrom')\n",
        "plt.ylabel(\"Frequency_or_density\")\n",
        "plt.title('RMSD_Histogram')\n",
        "plt.show()"
      ]
    },
    {
      "cell_type": "code",
      "execution_count": 78,
      "metadata": {
        "colab": {
          "base_uri": "https://localhost:8080/"
        },
        "id": "ag8nPIwvKn6x",
        "outputId": "23ac37c3-e4b2-442a-dec3-e0f70aa74d74"
      },
      "outputs": [
        {
          "name": "stdout",
          "output_type": "stream",
          "text": [
            "Mean of 'b': 10.62802146952\n",
            "Standard Deviation of 'b': 1.4560909523430348\n"
          ]
        }
      ],
      "source": [
        "import numpy as np\n",
        "\n",
        "mean_b = np.mean(data['Ang'])\n",
        "std_dev_b = np.std(data['Ang'])\n",
        "\n",
        "print(\"Mean of 'b':\", mean_b)\n",
        "print(\"Standard Deviation of 'b':\", std_dev_b)\n"
      ]
    },
    {
      "cell_type": "code",
      "execution_count": 16,
      "metadata": {
        "colab": {
          "base_uri": "https://localhost:8080/",
          "height": 472
        },
        "id": "VF-iJXSsLBla",
        "outputId": "eeb46ffd-0559-406d-8a31-320fcc1ff4a7"
      },
      "outputs": [
        {
          "data": {
            "image/png": "[encoded data removed]",
            "text/plain": [
              "<Figure size 640x480 with 1 Axes>"
            ]
          },
          "metadata": {},
          "output_type": "display_data"
        }
      ],
      "source": [
        "plt.hist(data['Ang'],bins=50)\n",
        "plt.xlabel('values_angstrom')\n",
        "plt.ylabel(\"Frequency_or_density\")\n",
        "plt.title('RMSD_Histogram')\n",
        "plt.show()"
      ]
    },
    {
      "cell_type": "code",
      "execution_count": 19,
      "metadata": {},
      "outputs": [
        {
          "name": "stdout",
          "output_type": "stream",
          "text": [
            "Collecting scipy\n",
            "  Downloading scipy-1.13.0-cp310-cp310-win_amd64.whl (46.2 MB)\n",
            "     ---------------------------------------- 46.2/46.2 MB 1.1 MB/s eta 0:00:00\n",
            "Requirement already satisfied: numpy<2.3,>=1.22.4 in c:\\users\\bojja\\appdata\\local\\programs\\python\\python310\\lib\\site-packages (from scipy) (1.26.4)\n",
            "Installing collected packages: scipy\n",
            "Successfully installed scipy-1.13.0\n"
          ]
        },
        {
          "name": "stderr",
          "output_type": "stream",
          "text": [
            "WARNING: You are using pip version 22.0.4; however, version 24.0 is available.\n",
            "You should consider upgrading via the 'C:\\Users\\Bojja\\AppData\\Local\\Programs\\Python\\Python310\\python.exe -m pip install --upgrade pip' command.\n"
          ]
        }
      ],
      "source": [
        "!pip install scipy"
      ]
    },
    {
      "cell_type": "code",
      "execution_count": 17,
      "metadata": {
        "id": "vGb8zb39LaFO"
      },
      "outputs": [
        {
          "ename": "ModuleNotFoundError",
          "evalue": "No module named 'scipy'",
          "output_type": "error",
          "traceback": [
            "\u001b[1;31m---------------------------------------------------------------------------\u001b[0m",
            "\u001b[1;31mModuleNotFoundError\u001b[0m                       Traceback (most recent call last)",
            "Cell \u001b[1;32mIn[17], line 1\u001b[0m\n\u001b[1;32m----> 1\u001b[0m \u001b[38;5;28;01mimport\u001b[39;00m \u001b[38;5;21;01mscipy\u001b[39;00m\n\u001b[0;32m      2\u001b[0m \u001b[38;5;28;01mfrom\u001b[39;00m \u001b[38;5;21;01mscipy\u001b[39;00m\u001b[38;5;21;01m.\u001b[39;00m\u001b[38;5;21;01mstats\u001b[39;00m \u001b[38;5;28;01mimport\u001b[39;00m norm\n",
            "\u001b[1;31mModuleNotFoundError\u001b[0m: No module named 'scipy'"
          ]
        }
      ],
      "source": [
        "import scipy\n",
        "from scipy.stats import norm"
      ]
    },
    {
      "cell_type": "code",
      "execution_count": 18,
      "metadata": {
        "id": "J8B6obHIX0M3"
      },
      "outputs": [],
      "source": [
        "mean,std = data['Ang'].mean(),data['Ang'].std()"
      ]
    },
    {
      "cell_type": "code",
      "execution_count": null,
      "metadata": {
        "id": "AMXJQAixYRhR"
      },
      "outputs": [],
      "source": [
        "x = np.linspace(data['Ang'].min(),data['Ang'].max(),30)"
      ]
    },
    {
      "cell_type": "code",
      "execution_count": null,
      "metadata": {
        "id": "RLae1UWaYflk"
      },
      "outputs": [],
      "source": [
        "y = norm.pdf(x,mean,std)"
      ]
    },
    {
      "cell_type": "markdown",
      "metadata": {
        "id": "0NAoE1XolBDw"
      },
      "source": [
        "#### Probability Distribution"
      ]
    },
    {
      "cell_type": "code",
      "execution_count": null,
      "metadata": {
        "colab": {
          "base_uri": "https://localhost:8080/",
          "height": 490
        },
        "id": "YG-BIKX2Yobs",
        "outputId": "ff6107d0-dc45-4e03-b57a-7f6f736a3895"
      },
      "outputs": [
        {
          "data": {
            "image/png": "[encoded data removed]",
            "text/plain": [
              "<Figure size 640x480 with 1 Axes>"
            ]
          },
          "metadata": {},
          "output_type": "display_data"
        },
        {
          "data": {
            "text/plain": [
              "<Figure size 1400x1000 with 0 Axes>"
            ]
          },
          "metadata": {},
          "output_type": "display_data"
        }
      ],
      "source": [
        "plt.plot(x, y, 'r-', linewidth=2, label='Gaussian Curve')\n",
        "\n",
        "# Show legend\n",
        "# plt.legend()\n",
        "plt.title('Probablity Distribution of RMSD')\n",
        "plt.xlabel('RMSD(Å)')\n",
        "plt.ylabel(\"Probability\")\n",
        "# Show the plot\n",
        "plt.figure(figsize=(14,10))\n",
        "plt.show()"
      ]
    },
    {
      "cell_type": "code",
      "execution_count": null,
      "metadata": {
        "colab": {
          "base_uri": "https://localhost:8080/",
          "height": 472
        },
        "id": "yypDS4Q-Y9Es",
        "outputId": "1516d098-df31-4e75-8e0b-5bd4112576d3"
      },
      "outputs": [
        {
          "data": {
            "image/png": "[encoded data removed]",
            "text/plain": [
              "<Figure size 640x480 with 1 Axes>"
            ]
          },
          "metadata": {},
          "output_type": "display_data"
        }
      ],
      "source": [
        "import matplotlib.pyplot as plt\n",
        "import numpy as np\n",
        "from scipy.stats import norm\n",
        "\n",
        "# Assuming data is a pandas DataFrame with a column 'Angstrom'\n",
        "plt.hist(data['Ang'], bins=50, density=True, alpha=0.6, color='g', label='Histogram')  # density=True for probability density instead of frequency\n",
        "plt.xlabel('Values (Angstrom)')\n",
        "plt.ylabel('Frequency or Density')\n",
        "plt.title('RMSD Histogram')\n",
        "\n",
        "# Calculate mean and standard deviation for the Gaussian curve\n",
        "mu, std = data['Ang'].mean(), data['Ang'].std()\n",
        "\n",
        "# Create a range of x values for the curve\n",
        "x = np.linspace(data['Ang'].min(), data['Ang'].max(), 100)\n",
        "\n",
        "# Calculate the corresponding y values from the Gaussian distribution\n",
        "y = norm.pdf(x, mu, std)\n",
        "\n",
        "# Plot the Gaussian curve\n",
        "plt.plot(x, y, 'r-', linewidth=2, label='Gaussian Curve')\n",
        "\n",
        "# Show legend\n",
        "plt.legend()\n",
        "\n",
        "# Show the plot\n",
        "plt.show()\n"
      ]
    },
    {
      "cell_type": "markdown",
      "metadata": {
        "id": "737e8Sp2kpTz"
      },
      "source": [
        "### RMSF"
      ]
    },
    {
      "cell_type": "code",
      "execution_count": 141,
      "metadata": {
        "id": "y35Rezl8kRa5"
      },
      "outputs": [
        {
          "name": "stdout",
          "output_type": "stream",
          "text": [
            "   Time     val\n",
            "0     2  0.3925\n",
            "1     3  0.4604\n",
            "2     4  0.2391\n",
            "3     5  0.1693\n",
            "4     6  0.1760\n"
          ]
        }
      ],
      "source": [
        "rmsf = pd.read_csv('res.csv')\n",
        "print(rmsf.head())\n",
        "rmsf['val']=10*rmsf['val']"
      ]
    },
    {
      "cell_type": "code",
      "execution_count": 142,
      "metadata": {
        "colab": {
          "base_uri": "https://localhost:8080/"
        },
        "id": "4yxAjIZWmmtz",
        "outputId": "3be099bb-bddf-4700-9901-58d643549129"
      },
      "outputs": [
        {
          "data": {
            "text/plain": [
              "Time      int64\n",
              "val     float64\n",
              "dtype: object"
            ]
          },
          "execution_count": 142,
          "metadata": {},
          "output_type": "execute_result"
        }
      ],
      "source": [
        "# rmsf=rmsf['A'].str.split(expand=True)\n",
        "# rmsf.columns = ['res','fluctuation']\n",
        "# rmsf['Time'] = rmsf['Time'].astype('int64')\n",
        "rmsf['val'] = rmsf['val'].astype('float64')\n",
        "rmsf.dtypes"
      ]
    },
    {
      "cell_type": "code",
      "execution_count": 143,
      "metadata": {
        "colab": {
          "base_uri": "https://localhost:8080/",
          "height": 206
        },
        "id": "QAxPMSw0nQh-",
        "outputId": "d65f6b8b-befc-4b70-d025-5cfd6a73e000"
      },
      "outputs": [
        {
          "data": {
            "text/html": [
              "<div>\n",
              "<style scoped>\n",
              "    .dataframe tbody tr th:only-of-type {\n",
              "        vertical-align: middle;\n",
              "    }\n",
              "\n",
              "    .dataframe tbody tr th {\n",
              "        vertical-align: top;\n",
              "    }\n",
              "\n",
              "    .dataframe thead th {\n",
              "        text-align: right;\n",
              "    }\n",
              "</style>\n",
              "<table border=\"1\" class=\"dataframe\">\n",
              "  <thead>\n",
              "    <tr style=\"text-align: right;\">\n",
              "      <th></th>\n",
              "      <th>Time</th>\n",
              "      <th>val</th>\n",
              "    </tr>\n",
              "  </thead>\n",
              "  <tbody>\n",
              "    <tr>\n",
              "      <th>0</th>\n",
              "      <td>2</td>\n",
              "      <td>3.925</td>\n",
              "    </tr>\n",
              "    <tr>\n",
              "      <th>1</th>\n",
              "      <td>3</td>\n",
              "      <td>4.604</td>\n",
              "    </tr>\n",
              "    <tr>\n",
              "      <th>2</th>\n",
              "      <td>4</td>\n",
              "      <td>2.391</td>\n",
              "    </tr>\n",
              "    <tr>\n",
              "      <th>3</th>\n",
              "      <td>5</td>\n",
              "      <td>1.693</td>\n",
              "    </tr>\n",
              "    <tr>\n",
              "      <th>4</th>\n",
              "      <td>6</td>\n",
              "      <td>1.760</td>\n",
              "    </tr>\n",
              "  </tbody>\n",
              "</table>\n",
              "</div>"
            ],
            "text/plain": [
              "   Time    val\n",
              "0     2  3.925\n",
              "1     3  4.604\n",
              "2     4  2.391\n",
              "3     5  1.693\n",
              "4     6  1.760"
            ]
          },
          "execution_count": 143,
          "metadata": {},
          "output_type": "execute_result"
        }
      ],
      "source": [
        "rmsf.head()"
      ]
    },
    {
      "cell_type": "code",
      "execution_count": 144,
      "metadata": {
        "colab": {
          "base_uri": "https://localhost:8080/",
          "height": 300
        },
        "id": "DO2ShkWFnSrf",
        "outputId": "ef084110-e1f6-44c3-80c2-628c75c0241e"
      },
      "outputs": [
        {
          "data": {
            "text/html": [
              "<div>\n",
              "<style scoped>\n",
              "    .dataframe tbody tr th:only-of-type {\n",
              "        vertical-align: middle;\n",
              "    }\n",
              "\n",
              "    .dataframe tbody tr th {\n",
              "        vertical-align: top;\n",
              "    }\n",
              "\n",
              "    .dataframe thead th {\n",
              "        text-align: right;\n",
              "    }\n",
              "</style>\n",
              "<table border=\"1\" class=\"dataframe\">\n",
              "  <thead>\n",
              "    <tr style=\"text-align: right;\">\n",
              "      <th></th>\n",
              "      <th>Time</th>\n",
              "      <th>val</th>\n",
              "    </tr>\n",
              "  </thead>\n",
              "  <tbody>\n",
              "    <tr>\n",
              "      <th>count</th>\n",
              "      <td>19.000000</td>\n",
              "      <td>19.000000</td>\n",
              "    </tr>\n",
              "    <tr>\n",
              "      <th>mean</th>\n",
              "      <td>11.000000</td>\n",
              "      <td>3.433368</td>\n",
              "    </tr>\n",
              "    <tr>\n",
              "      <th>std</th>\n",
              "      <td>5.627314</td>\n",
              "      <td>1.427149</td>\n",
              "    </tr>\n",
              "    <tr>\n",
              "      <th>min</th>\n",
              "      <td>2.000000</td>\n",
              "      <td>1.693000</td>\n",
              "    </tr>\n",
              "    <tr>\n",
              "      <th>25%</th>\n",
              "      <td>6.500000</td>\n",
              "      <td>2.517000</td>\n",
              "    </tr>\n",
              "    <tr>\n",
              "      <th>50%</th>\n",
              "      <td>11.000000</td>\n",
              "      <td>3.051000</td>\n",
              "    </tr>\n",
              "    <tr>\n",
              "      <th>75%</th>\n",
              "      <td>15.500000</td>\n",
              "      <td>4.147500</td>\n",
              "    </tr>\n",
              "    <tr>\n",
              "      <th>max</th>\n",
              "      <td>20.000000</td>\n",
              "      <td>7.350000</td>\n",
              "    </tr>\n",
              "  </tbody>\n",
              "</table>\n",
              "</div>"
            ],
            "text/plain": [
              "            Time        val\n",
              "count  19.000000  19.000000\n",
              "mean   11.000000   3.433368\n",
              "std     5.627314   1.427149\n",
              "min     2.000000   1.693000\n",
              "25%     6.500000   2.517000\n",
              "50%    11.000000   3.051000\n",
              "75%    15.500000   4.147500\n",
              "max    20.000000   7.350000"
            ]
          },
          "execution_count": 144,
          "metadata": {},
          "output_type": "execute_result"
        }
      ],
      "source": [
        "rmsf.describe()"
      ]
    },
    {
      "cell_type": "code",
      "execution_count": null,
      "metadata": {
        "id": "oTaZ1IKHneCM"
      },
      "outputs": [],
      "source": []
    },
    {
      "cell_type": "markdown",
      "metadata": {
        "id": "nKOuwT8lk4Gc"
      },
      "source": [
        "### Hydrogen Bonding"
      ]
    },
    {
      "cell_type": "markdown",
      "metadata": {
        "id": "nFlEnFn3lOZj"
      },
      "source": [
        "#### RNA vs RNA\n"
      ]
    },
    {
      "cell_type": "code",
      "execution_count": 117,
      "metadata": {
        "id": "yBmtw16LPmOc"
      },
      "outputs": [],
      "source": [
        "import pandas as pd\n",
        "import numpy as np\n",
        "import matplotlib.pyplot as plt"
      ]
    },
    {
      "cell_type": "code",
      "execution_count": 118,
      "metadata": {
        "id": "bKsrugHuWAJz"
      },
      "outputs": [],
      "source": [
        "df = pd.read_csv('ade-ade.csv')"
      ]
    },
    {
      "cell_type": "code",
      "execution_count": 119,
      "metadata": {
        "colab": {
          "base_uri": "https://localhost:8080/",
          "height": 424
        },
        "id": "ffRIO0L5WGSo",
        "outputId": "5541fc0c-98b2-4f07-d007-1e61b96c7ef5"
      },
      "outputs": [
        {
          "data": {
            "text/html": [
              "<div>\n",
              "<style scoped>\n",
              "    .dataframe tbody tr th:only-of-type {\n",
              "        vertical-align: middle;\n",
              "    }\n",
              "\n",
              "    .dataframe tbody tr th {\n",
              "        vertical-align: top;\n",
              "    }\n",
              "\n",
              "    .dataframe thead th {\n",
              "        text-align: right;\n",
              "    }\n",
              "</style>\n",
              "<table border=\"1\" class=\"dataframe\">\n",
              "  <thead>\n",
              "    <tr style=\"text-align: right;\">\n",
              "      <th></th>\n",
              "      <th>Time</th>\n",
              "      <th>val</th>\n",
              "    </tr>\n",
              "  </thead>\n",
              "  <tbody>\n",
              "    <tr>\n",
              "      <th>0</th>\n",
              "      <td>0.02</td>\n",
              "      <td>17</td>\n",
              "    </tr>\n",
              "    <tr>\n",
              "      <th>1</th>\n",
              "      <td>0.04</td>\n",
              "      <td>21</td>\n",
              "    </tr>\n",
              "    <tr>\n",
              "      <th>2</th>\n",
              "      <td>0.06</td>\n",
              "      <td>16</td>\n",
              "    </tr>\n",
              "    <tr>\n",
              "      <th>3</th>\n",
              "      <td>0.08</td>\n",
              "      <td>17</td>\n",
              "    </tr>\n",
              "    <tr>\n",
              "      <th>4</th>\n",
              "      <td>0.10</td>\n",
              "      <td>18</td>\n",
              "    </tr>\n",
              "    <tr>\n",
              "      <th>...</th>\n",
              "      <td>...</td>\n",
              "      <td>...</td>\n",
              "    </tr>\n",
              "    <tr>\n",
              "      <th>49990</th>\n",
              "      <td>999.82</td>\n",
              "      <td>22</td>\n",
              "    </tr>\n",
              "    <tr>\n",
              "      <th>49991</th>\n",
              "      <td>999.84</td>\n",
              "      <td>19</td>\n",
              "    </tr>\n",
              "    <tr>\n",
              "      <th>49992</th>\n",
              "      <td>999.86</td>\n",
              "      <td>22</td>\n",
              "    </tr>\n",
              "    <tr>\n",
              "      <th>49993</th>\n",
              "      <td>999.88</td>\n",
              "      <td>21</td>\n",
              "    </tr>\n",
              "    <tr>\n",
              "      <th>49994</th>\n",
              "      <td>999.90</td>\n",
              "      <td>19</td>\n",
              "    </tr>\n",
              "  </tbody>\n",
              "</table>\n",
              "<p>49995 rows × 2 columns</p>\n",
              "</div>"
            ],
            "text/plain": [
              "         Time  val\n",
              "0        0.02   17\n",
              "1        0.04   21\n",
              "2        0.06   16\n",
              "3        0.08   17\n",
              "4        0.10   18\n",
              "...       ...  ...\n",
              "49990  999.82   22\n",
              "49991  999.84   19\n",
              "49992  999.86   22\n",
              "49993  999.88   21\n",
              "49994  999.90   19\n",
              "\n",
              "[49995 rows x 2 columns]"
            ]
          },
          "execution_count": 119,
          "metadata": {},
          "output_type": "execute_result"
        }
      ],
      "source": [
        "df.head(-5)"
      ]
    },
    {
      "cell_type": "code",
      "execution_count": 120,
      "metadata": {
        "colab": {
          "base_uri": "https://localhost:8080/"
        },
        "id": "BBrbL-ySZmiz",
        "outputId": "8b9b6097-0e56-44c7-991d-d696fc359c92"
      },
      "outputs": [
        {
          "data": {
            "text/plain": [
              "Time    float64\n",
              "val       int64\n",
              "dtype: object"
            ]
          },
          "execution_count": 120,
          "metadata": {},
          "output_type": "execute_result"
        }
      ],
      "source": [
        "df.dtypes"
      ]
    },
    {
      "cell_type": "code",
      "execution_count": 121,
      "metadata": {
        "id": "2HyFCeWuZoeG"
      },
      "outputs": [],
      "source": [
        "# df['Time']=df['Time'].astype('float64')\n",
        "# df['Num']=df['Num'].astype('int64')"
      ]
    },
    {
      "cell_type": "code",
      "execution_count": 122,
      "metadata": {
        "colab": {
          "base_uri": "https://localhost:8080/"
        },
        "id": "cWzK4IJ9ZobA",
        "outputId": "7c35f2a1-b189-4eff-faa5-32d0c1f1ffe7"
      },
      "outputs": [
        {
          "data": {
            "text/plain": [
              "Time    float64\n",
              "val       int64\n",
              "dtype: object"
            ]
          },
          "execution_count": 122,
          "metadata": {},
          "output_type": "execute_result"
        }
      ],
      "source": [
        "df.dtypes"
      ]
    },
    {
      "cell_type": "code",
      "execution_count": 123,
      "metadata": {
        "colab": {
          "base_uri": "https://localhost:8080/",
          "height": 300
        },
        "id": "SoilEoetYOxf",
        "outputId": "69abc41a-a9c1-40d3-839b-f1d2add9f27a"
      },
      "outputs": [
        {
          "data": {
            "text/html": [
              "<div>\n",
              "<style scoped>\n",
              "    .dataframe tbody tr th:only-of-type {\n",
              "        vertical-align: middle;\n",
              "    }\n",
              "\n",
              "    .dataframe tbody tr th {\n",
              "        vertical-align: top;\n",
              "    }\n",
              "\n",
              "    .dataframe thead th {\n",
              "        text-align: right;\n",
              "    }\n",
              "</style>\n",
              "<table border=\"1\" class=\"dataframe\">\n",
              "  <thead>\n",
              "    <tr style=\"text-align: right;\">\n",
              "      <th></th>\n",
              "      <th>Time</th>\n",
              "      <th>val</th>\n",
              "    </tr>\n",
              "  </thead>\n",
              "  <tbody>\n",
              "    <tr>\n",
              "      <th>count</th>\n",
              "      <td>50000.000000</td>\n",
              "      <td>50000.000000</td>\n",
              "    </tr>\n",
              "    <tr>\n",
              "      <th>mean</th>\n",
              "      <td>500.010000</td>\n",
              "      <td>20.857460</td>\n",
              "    </tr>\n",
              "    <tr>\n",
              "      <th>std</th>\n",
              "      <td>288.678021</td>\n",
              "      <td>3.128549</td>\n",
              "    </tr>\n",
              "    <tr>\n",
              "      <th>min</th>\n",
              "      <td>0.020000</td>\n",
              "      <td>9.000000</td>\n",
              "    </tr>\n",
              "    <tr>\n",
              "      <th>25%</th>\n",
              "      <td>250.015000</td>\n",
              "      <td>19.000000</td>\n",
              "    </tr>\n",
              "    <tr>\n",
              "      <th>50%</th>\n",
              "      <td>500.010000</td>\n",
              "      <td>21.000000</td>\n",
              "    </tr>\n",
              "    <tr>\n",
              "      <th>75%</th>\n",
              "      <td>750.005000</td>\n",
              "      <td>23.000000</td>\n",
              "    </tr>\n",
              "    <tr>\n",
              "      <th>max</th>\n",
              "      <td>1000.000000</td>\n",
              "      <td>33.000000</td>\n",
              "    </tr>\n",
              "  </tbody>\n",
              "</table>\n",
              "</div>"
            ],
            "text/plain": [
              "               Time           val\n",
              "count  50000.000000  50000.000000\n",
              "mean     500.010000     20.857460\n",
              "std      288.678021      3.128549\n",
              "min        0.020000      9.000000\n",
              "25%      250.015000     19.000000\n",
              "50%      500.010000     21.000000\n",
              "75%      750.005000     23.000000\n",
              "max     1000.000000     33.000000"
            ]
          },
          "execution_count": 123,
          "metadata": {},
          "output_type": "execute_result"
        }
      ],
      "source": [
        "df.describe()"
      ]
    },
    {
      "cell_type": "code",
      "execution_count": null,
      "metadata": {
        "id": "ZyCcrU3hZK4z"
      },
      "outputs": [],
      "source": [
        "df['MA']=df['Num'].rolling(window=3).mean()"
      ]
    },
    {
      "cell_type": "code",
      "execution_count": null,
      "metadata": {
        "colab": {
          "base_uri": "https://localhost:8080/",
          "height": 528
        },
        "id": "t_lUVDRnaWxw",
        "outputId": "ee932a6c-2741-4686-8bb1-844b35cf11ec"
      },
      "outputs": [
        {
          "data": {
            "image/png": "[encoded data removed]",
            "text/plain": [
              "<Figure size 2000x600 with 1 Axes>"
            ]
          },
          "metadata": {},
          "output_type": "display_data"
        }
      ],
      "source": [
        "plt.figure(figsize=(20,6))\n",
        "plt.plot('MA',data = df,color ='red')\n",
        "plt.xlabel(\"Time(Å)\")\n",
        "plt.ylabel(\"Bond number\")\n",
        "plt.title('MA of Bonds vs Time')\n",
        "plt.show()"
      ]
    },
    {
      "cell_type": "markdown",
      "metadata": {
        "id": "cqCVxESClK1F"
      },
      "source": [
        "#### Water vs RNA"
      ]
    },
    {
      "cell_type": "code",
      "execution_count": 5,
      "metadata": {
        "id": "_UxKbB--a52v"
      },
      "outputs": [],
      "source": [
        "water = pd.read_csv(\"ade-water.csv\")"
      ]
    },
    {
      "cell_type": "code",
      "execution_count": 6,
      "metadata": {
        "colab": {
          "base_uri": "https://localhost:8080/",
          "height": 206
        },
        "id": "Dk-OaDEEmX0F",
        "outputId": "933a1be2-6abf-463d-fd91-1aa3577ac2ba"
      },
      "outputs": [
        {
          "data": {
            "text/html": [
              "<div>\n",
              "<style scoped>\n",
              "    .dataframe tbody tr th:only-of-type {\n",
              "        vertical-align: middle;\n",
              "    }\n",
              "\n",
              "    .dataframe tbody tr th {\n",
              "        vertical-align: top;\n",
              "    }\n",
              "\n",
              "    .dataframe thead th {\n",
              "        text-align: right;\n",
              "    }\n",
              "</style>\n",
              "<table border=\"1\" class=\"dataframe\">\n",
              "  <thead>\n",
              "    <tr style=\"text-align: right;\">\n",
              "      <th></th>\n",
              "      <th>Time</th>\n",
              "      <th>val</th>\n",
              "    </tr>\n",
              "  </thead>\n",
              "  <tbody>\n",
              "    <tr>\n",
              "      <th>0</th>\n",
              "      <td>20.0</td>\n",
              "      <td>236</td>\n",
              "    </tr>\n",
              "    <tr>\n",
              "      <th>1</th>\n",
              "      <td>40.0</td>\n",
              "      <td>233</td>\n",
              "    </tr>\n",
              "    <tr>\n",
              "      <th>2</th>\n",
              "      <td>60.0</td>\n",
              "      <td>233</td>\n",
              "    </tr>\n",
              "    <tr>\n",
              "      <th>3</th>\n",
              "      <td>80.0</td>\n",
              "      <td>232</td>\n",
              "    </tr>\n",
              "    <tr>\n",
              "      <th>4</th>\n",
              "      <td>100.0</td>\n",
              "      <td>219</td>\n",
              "    </tr>\n",
              "  </tbody>\n",
              "</table>\n",
              "</div>"
            ],
            "text/plain": [
              "    Time  val\n",
              "0   20.0  236\n",
              "1   40.0  233\n",
              "2   60.0  233\n",
              "3   80.0  232\n",
              "4  100.0  219"
            ]
          },
          "execution_count": 6,
          "metadata": {},
          "output_type": "execute_result"
        }
      ],
      "source": [
        "water.head()"
      ]
    },
    {
      "cell_type": "code",
      "execution_count": 7,
      "metadata": {
        "id": "hIl3k-5MmY40"
      },
      "outputs": [],
      "source": [
        "water.columns = ['Time','Bonds']"
      ]
    },
    {
      "cell_type": "code",
      "execution_count": 8,
      "metadata": {
        "colab": {
          "base_uri": "https://localhost:8080/"
        },
        "id": "KcqDKLuLmcIv",
        "outputId": "a882e8d6-7b06-4ab6-a726-a70381cd4700"
      },
      "outputs": [
        {
          "data": {
            "text/plain": [
              "Time     float64\n",
              "Bonds      int64\n",
              "dtype: object"
            ]
          },
          "execution_count": 8,
          "metadata": {},
          "output_type": "execute_result"
        }
      ],
      "source": [
        "water.dtypes"
      ]
    },
    {
      "cell_type": "code",
      "execution_count": 9,
      "metadata": {
        "id": "PzRobThQmems"
      },
      "outputs": [],
      "source": [
        "# water['Time']=water['Time'].astype('float64')\n",
        "# water['Bonds']=water['Bonds'].astype('int64')\n",
        "# water.dtypes"
      ]
    },
    {
      "cell_type": "code",
      "execution_count": 10,
      "metadata": {
        "colab": {
          "base_uri": "https://localhost:8080/",
          "height": 300
        },
        "id": "tPhSYNRBmkJa",
        "outputId": "14957bed-428e-4b8a-e82c-af004ede5abf"
      },
      "outputs": [
        {
          "data": {
            "text/html": [
              "<div>\n",
              "<style scoped>\n",
              "    .dataframe tbody tr th:only-of-type {\n",
              "        vertical-align: middle;\n",
              "    }\n",
              "\n",
              "    .dataframe tbody tr th {\n",
              "        vertical-align: top;\n",
              "    }\n",
              "\n",
              "    .dataframe thead th {\n",
              "        text-align: right;\n",
              "    }\n",
              "</style>\n",
              "<table border=\"1\" class=\"dataframe\">\n",
              "  <thead>\n",
              "    <tr style=\"text-align: right;\">\n",
              "      <th></th>\n",
              "      <th>Time</th>\n",
              "      <th>Bonds</th>\n",
              "    </tr>\n",
              "  </thead>\n",
              "  <tbody>\n",
              "    <tr>\n",
              "      <th>count</th>\n",
              "      <td>50000.000000</td>\n",
              "      <td>50000.000000</td>\n",
              "    </tr>\n",
              "    <tr>\n",
              "      <th>mean</th>\n",
              "      <td>500010.000000</td>\n",
              "      <td>207.528640</td>\n",
              "    </tr>\n",
              "    <tr>\n",
              "      <th>std</th>\n",
              "      <td>288678.021332</td>\n",
              "      <td>10.271625</td>\n",
              "    </tr>\n",
              "    <tr>\n",
              "      <th>min</th>\n",
              "      <td>20.000000</td>\n",
              "      <td>171.000000</td>\n",
              "    </tr>\n",
              "    <tr>\n",
              "      <th>25%</th>\n",
              "      <td>250015.000000</td>\n",
              "      <td>200.000000</td>\n",
              "    </tr>\n",
              "    <tr>\n",
              "      <th>50%</th>\n",
              "      <td>500010.000000</td>\n",
              "      <td>207.000000</td>\n",
              "    </tr>\n",
              "    <tr>\n",
              "      <th>75%</th>\n",
              "      <td>750005.000000</td>\n",
              "      <td>214.000000</td>\n",
              "    </tr>\n",
              "    <tr>\n",
              "      <th>max</th>\n",
              "      <td>1000000.000000</td>\n",
              "      <td>250.000000</td>\n",
              "    </tr>\n",
              "  </tbody>\n",
              "</table>\n",
              "</div>"
            ],
            "text/plain": [
              "                 Time         Bonds\n",
              "count    50000.000000  50000.000000\n",
              "mean    500010.000000    207.528640\n",
              "std     288678.021332     10.271625\n",
              "min         20.000000    171.000000\n",
              "25%     250015.000000    200.000000\n",
              "50%     500010.000000    207.000000\n",
              "75%     750005.000000    214.000000\n",
              "max    1000000.000000    250.000000"
            ]
          },
          "execution_count": 10,
          "metadata": {},
          "output_type": "execute_result"
        }
      ],
      "source": [
        "water.describe()"
      ]
    },
    {
      "cell_type": "code",
      "execution_count": null,
      "metadata": {
        "colab": {
          "base_uri": "https://localhost:8080/",
          "height": 525
        },
        "id": "48FDH0IFm6T7",
        "outputId": "448487ec-25f3-4481-b266-b63537fe2ea5"
      },
      "outputs": [
        {
          "data": {
            "image/png": "[encoded data removed]",
            "text/plain": [
              "<Figure size 2000x600 with 1 Axes>"
            ]
          },
          "metadata": {},
          "output_type": "display_data"
        }
      ],
      "source": [
        "plt.figure(figsize=(20,6))\n",
        "plt.plot('Time','Bonds',data =water,color = 'b')\n",
        "plt.xlabel('Time(Å)')\n",
        "plt.ylabel(\"Bond number\")\n",
        "plt.title('Hydrogen Bonds between water & RNA vs Time')\n",
        "plt.show()"
      ]
    },
    {
      "cell_type": "code",
      "execution_count": null,
      "metadata": {
        "colab": {
          "base_uri": "https://localhost:8080/"
        },
        "id": "e-5mRoH7nqUd",
        "outputId": "d5235a6c-572b-4322-a59b-0aa28904e5f2"
      },
      "outputs": [
        {
          "name": "stdout",
          "output_type": "stream",
          "text": [
            "|   Bonding    |      Mean      |\n",
            "|--------------|----------------|\n",
            "| RNA vs RNA   | 23.17(±4.05)   |\n",
            "| RNA vs Water | 207.69(±12.12) |\n"
          ]
        }
      ],
      "source": [
        "print(\"|   Bonding    |      Mean      |\")\n",
        "print(\"|--------------|----------------|\")\n",
        "print(\"| RNA vs RNA   | 23.17(±4.05)   |\")\n",
        "print(\"| RNA vs Water | 207.69(±12.12) |\")\n"
      ]
    },
    {
      "cell_type": "markdown",
      "metadata": {
        "id": "7lPdOZo5RPEo"
      },
      "source": [
        "### Radius of Gyration"
      ]
    },
    {
      "cell_type": "code",
      "execution_count": 8,
      "metadata": {
        "id": "3pvh9TKrLvjL"
      },
      "outputs": [],
      "source": [
        "import pandas as pd\n",
        "import numpy as np\n",
        "import matplotlib.pyplot as plt"
      ]
    },
    {
      "cell_type": "code",
      "execution_count": 133,
      "metadata": {
        "colab": {
          "base_uri": "https://localhost:8080/",
          "height": 206
        },
        "id": "FMuJnMykRYxz",
        "outputId": "7b14d6f4-56ef-4fed-fd9b-70b9d2afc1f5"
      },
      "outputs": [
        {
          "data": {
            "text/html": [
              "<div>\n",
              "<style scoped>\n",
              "    .dataframe tbody tr th:only-of-type {\n",
              "        vertical-align: middle;\n",
              "    }\n",
              "\n",
              "    .dataframe tbody tr th {\n",
              "        vertical-align: top;\n",
              "    }\n",
              "\n",
              "    .dataframe thead th {\n",
              "        text-align: right;\n",
              "    }\n",
              "</style>\n",
              "<table border=\"1\" class=\"dataframe\">\n",
              "  <thead>\n",
              "    <tr style=\"text-align: right;\">\n",
              "      <th></th>\n",
              "      <th>Time</th>\n",
              "      <th>val</th>\n",
              "    </tr>\n",
              "  </thead>\n",
              "  <tbody>\n",
              "    <tr>\n",
              "      <th>0</th>\n",
              "      <td>20.0</td>\n",
              "      <td>1.20781</td>\n",
              "    </tr>\n",
              "    <tr>\n",
              "      <th>1</th>\n",
              "      <td>40.0</td>\n",
              "      <td>1.20696</td>\n",
              "    </tr>\n",
              "    <tr>\n",
              "      <th>2</th>\n",
              "      <td>60.0</td>\n",
              "      <td>1.23337</td>\n",
              "    </tr>\n",
              "    <tr>\n",
              "      <th>3</th>\n",
              "      <td>80.0</td>\n",
              "      <td>1.20145</td>\n",
              "    </tr>\n",
              "    <tr>\n",
              "      <th>4</th>\n",
              "      <td>100.0</td>\n",
              "      <td>1.19788</td>\n",
              "    </tr>\n",
              "  </tbody>\n",
              "</table>\n",
              "</div>"
            ],
            "text/plain": [
              "    Time      val\n",
              "0   20.0  1.20781\n",
              "1   40.0  1.20696\n",
              "2   60.0  1.23337\n",
              "3   80.0  1.20145\n",
              "4  100.0  1.19788"
            ]
          },
          "execution_count": 133,
          "metadata": {},
          "output_type": "execute_result"
        }
      ],
      "source": [
        "rg = pd.read_csv('gyrate.csv')\n",
        "rg.head()"
      ]
    },
    {
      "cell_type": "code",
      "execution_count": 134,
      "metadata": {
        "colab": {
          "base_uri": "https://localhost:8080/"
        },
        "id": "F9Uded_oSEKu",
        "outputId": "f622b42b-3df4-441f-b498-839931d7c54e"
      },
      "outputs": [
        {
          "data": {
            "text/plain": [
              "Index(['Time', 'val'], dtype='object')"
            ]
          },
          "execution_count": 134,
          "metadata": {},
          "output_type": "execute_result"
        }
      ],
      "source": [
        "# rg=rg.drop(columns=['1','2','3','4'])\n",
        "rg.columns"
      ]
    },
    {
      "cell_type": "code",
      "execution_count": 135,
      "metadata": {
        "colab": {
          "base_uri": "https://localhost:8080/"
        },
        "id": "LcqR-HCqRhDC",
        "outputId": "34cf3c39-6a68-4e4f-b694-19fc6b0da660"
      },
      "outputs": [
        {
          "data": {
            "text/plain": [
              "Time    float64\n",
              "val     float64\n",
              "dtype: object"
            ]
          },
          "execution_count": 135,
          "metadata": {},
          "output_type": "execute_result"
        }
      ],
      "source": [
        "rg.dtypes"
      ]
    },
    {
      "cell_type": "code",
      "execution_count": 136,
      "metadata": {
        "id": "2Z_AMoDobR4I"
      },
      "outputs": [],
      "source": [
        "rg.to_csv('aqeous_gyrate.csv')"
      ]
    },
    {
      "cell_type": "code",
      "execution_count": 12,
      "metadata": {
        "colab": {
          "base_uri": "https://localhost:8080/"
        },
        "id": "-sJFdbfsZ4NJ",
        "outputId": "f03b1f4c-26b2-4b43-e0d7-170b4a6d4aa6"
      },
      "outputs": [
        {
          "data": {
            "text/plain": [
              "Time    float64\n",
              "Ang      object\n",
              "dtype: object"
            ]
          },
          "execution_count": 12,
          "metadata": {},
          "output_type": "execute_result"
        }
      ],
      "source": [
        "import pandas as pd\n",
        "\n",
        "# Replace '&' with NaN in the 'Time' column\n",
        "rg['Time'] = rg['Time'].replace('&', pd.NA)\n",
        "\n",
        "# Convert the 'Time' column to numeric, replacing non-convertible values with NaN\n",
        "rg['Time'] = pd.to_numeric(rg['Time'], errors='coerce')\n",
        "\n",
        "# Drop rows with NaN values in the 'Time' column\n",
        "rg = rg.dropna(subset=['Time'])\n",
        "rg.dtypes\n"
      ]
    },
    {
      "cell_type": "code",
      "execution_count": 13,
      "metadata": {
        "colab": {
          "base_uri": "https://localhost:8080/"
        },
        "id": "g_NyeO1Pa3Ru",
        "outputId": "6f166600-58be-4b2c-cb46-867295b3be1a"
      },
      "outputs": [
        {
          "data": {
            "text/plain": [
              "Time    float64\n",
              "Ang     float64\n",
              "dtype: object"
            ]
          },
          "execution_count": 13,
          "metadata": {},
          "output_type": "execute_result"
        }
      ],
      "source": [
        "import pandas as pd\n",
        "\n",
        "# Replace '&' with NaN in the 'Time' column\n",
        "rg['Ang'] = rg['Ang'].replace('&', pd.NA)\n",
        "\n",
        "# Convert the 'Ang' column to numeric, replacing non-convertible values with NaN\n",
        "rg['Ang'] = pd.to_numeric(rg['Ang'], errors='coerce')\n",
        "\n",
        "# Drop rows with NaN values in the 'Ang' column\n",
        "rg = rg.dropna(subset=['Ang'])\n",
        "rg.dtypes\n"
      ]
    },
    {
      "cell_type": "code",
      "execution_count": 137,
      "metadata": {
        "id": "LWM4xigFbJlj"
      },
      "outputs": [],
      "source": [
        "rg['val'] = rg['val']*10"
      ]
    },
    {
      "cell_type": "code",
      "execution_count": 138,
      "metadata": {
        "colab": {
          "base_uri": "https://localhost:8080/",
          "height": 300
        },
        "id": "mnVlJZUSTD0Z",
        "outputId": "bc876679-c8f2-40db-bf81-2efcde0c352d"
      },
      "outputs": [
        {
          "data": {
            "text/html": [
              "<div>\n",
              "<style scoped>\n",
              "    .dataframe tbody tr th:only-of-type {\n",
              "        vertical-align: middle;\n",
              "    }\n",
              "\n",
              "    .dataframe tbody tr th {\n",
              "        vertical-align: top;\n",
              "    }\n",
              "\n",
              "    .dataframe thead th {\n",
              "        text-align: right;\n",
              "    }\n",
              "</style>\n",
              "<table border=\"1\" class=\"dataframe\">\n",
              "  <thead>\n",
              "    <tr style=\"text-align: right;\">\n",
              "      <th></th>\n",
              "      <th>Time</th>\n",
              "      <th>val</th>\n",
              "    </tr>\n",
              "  </thead>\n",
              "  <tbody>\n",
              "    <tr>\n",
              "      <th>count</th>\n",
              "      <td>50000.000000</td>\n",
              "      <td>50000.000000</td>\n",
              "    </tr>\n",
              "    <tr>\n",
              "      <th>mean</th>\n",
              "      <td>500010.000000</td>\n",
              "      <td>11.531443</td>\n",
              "    </tr>\n",
              "    <tr>\n",
              "      <th>std</th>\n",
              "      <td>288678.021332</td>\n",
              "      <td>0.356841</td>\n",
              "    </tr>\n",
              "    <tr>\n",
              "      <th>min</th>\n",
              "      <td>20.000000</td>\n",
              "      <td>10.597400</td>\n",
              "    </tr>\n",
              "    <tr>\n",
              "      <th>25%</th>\n",
              "      <td>250015.000000</td>\n",
              "      <td>11.307900</td>\n",
              "    </tr>\n",
              "    <tr>\n",
              "      <th>50%</th>\n",
              "      <td>500010.000000</td>\n",
              "      <td>11.491350</td>\n",
              "    </tr>\n",
              "    <tr>\n",
              "      <th>75%</th>\n",
              "      <td>750005.000000</td>\n",
              "      <td>11.704425</td>\n",
              "    </tr>\n",
              "    <tr>\n",
              "      <th>max</th>\n",
              "      <td>1000000.000000</td>\n",
              "      <td>14.819900</td>\n",
              "    </tr>\n",
              "  </tbody>\n",
              "</table>\n",
              "</div>"
            ],
            "text/plain": [
              "                 Time           val\n",
              "count    50000.000000  50000.000000\n",
              "mean    500010.000000     11.531443\n",
              "std     288678.021332      0.356841\n",
              "min         20.000000     10.597400\n",
              "25%     250015.000000     11.307900\n",
              "50%     500010.000000     11.491350\n",
              "75%     750005.000000     11.704425\n",
              "max    1000000.000000     14.819900"
            ]
          },
          "execution_count": 138,
          "metadata": {},
          "output_type": "execute_result"
        }
      ],
      "source": [
        "rg.describe()"
      ]
    },
    {
      "cell_type": "markdown",
      "metadata": {
        "id": "3Hb9xhLnOyTT"
      },
      "source": [
        "#### Probability distribution"
      ]
    },
    {
      "cell_type": "code",
      "execution_count": null,
      "metadata": {
        "id": "-kRrN28SO7lu"
      },
      "outputs": [],
      "source": [
        "import scipy\n",
        "from scipy.stats import norm"
      ]
    },
    {
      "cell_type": "code",
      "execution_count": null,
      "metadata": {
        "id": "E4Us5nNeO7jL"
      },
      "outputs": [],
      "source": [
        "mean,std = rg['Ang'].mean(),rg['Ang'].std()\n",
        "x = np.linspace(rg['Ang'].min(),rg['Ang'].max(),30)\n",
        "y = norm.pdf(x,mean,std)"
      ]
    },
    {
      "cell_type": "code",
      "execution_count": null,
      "metadata": {
        "colab": {
          "base_uri": "https://localhost:8080/",
          "height": 492
        },
        "id": "d0UVB48gO7fq",
        "outputId": "c2624233-a6ca-46c1-ef2e-0bc30f996b98"
      },
      "outputs": [
        {
          "data": {
            "image/png": "[encoded data removed]",
            "text/plain": [
              "<Figure size 640x480 with 1 Axes>"
            ]
          },
          "metadata": {},
          "output_type": "display_data"
        },
        {
          "data": {
            "text/plain": [
              "<Figure size 1400x1000 with 0 Axes>"
            ]
          },
          "metadata": {},
          "output_type": "display_data"
        }
      ],
      "source": [
        "plt.plot(x, y, 'r-', linewidth=2, label='Gaussian Curve')\n",
        "\n",
        "# Show legend\n",
        "# plt.legend()\n",
        "plt.title('Probablity Distribution of Radius of gyration')\n",
        "plt.xlabel('Radius of gyration(Å)')\n",
        "plt.ylabel(\"Probability\")\n",
        "# Show the plot\n",
        "plt.figure(figsize=(14,10))\n",
        "plt.show()"
      ]
    },
    {
      "cell_type": "code",
      "execution_count": null,
      "metadata": {
        "colab": {
          "base_uri": "https://localhost:8080/"
        },
        "id": "31Oi_l3aQW6c",
        "outputId": "04239c3c-ada8-430f-c17f-c9b2faecd9a1"
      },
      "outputs": [
        {
          "name": "stdout",
          "output_type": "stream",
          "text": [
            "Maximum x-axis value corresponding to the maximum PDF value: 13.14766896551724\n"
          ]
        }
      ],
      "source": [
        "max_value_index = np.argmax(y)\n",
        "max_x_value = x[max_value_index]\n",
        "print(\"Maximum x-axis value corresponding to the maximum PDF value:\", max_x_value)"
      ]
    },
    {
      "cell_type": "code",
      "execution_count": null,
      "metadata": {
        "colab": {
          "base_uri": "https://localhost:8080/",
          "height": 472
        },
        "id": "XO6BDngoO7dL",
        "outputId": "ffb574fe-48a0-49d5-9a90-43b6d1803eae"
      },
      "outputs": [
        {
          "data": {
            "image/png": "[encoded data removed]",
            "text/plain": [
              "<Figure size 640x480 with 1 Axes>"
            ]
          },
          "metadata": {},
          "output_type": "display_data"
        }
      ],
      "source": [
        "import matplotlib.pyplot as plt\n",
        "import numpy as np\n",
        "from scipy.stats import norm\n",
        "\n",
        "# Assuming rg is a pandas DataFrame with a column 'Angstrom'\n",
        "plt.hist(rg['Ang'], bins=50, density=True, alpha=0.6, color='g', label='Histogram')  # density=True for probability density instead of frequency\n",
        "plt.xlabel('Values (Angstrom)')\n",
        "plt.ylabel('Frequency or Density')\n",
        "plt.title('gyrate Histogram')\n",
        "\n",
        "# Calculate mean and standard deviation for the Gaussian curve\n",
        "mu, std = rg['Ang'].mean(), rg['Ang'].std()\n",
        "\n",
        "# Create a range of x values for the curve\n",
        "x = np.linspace(rg['Ang'].min(), rg['Ang'].max(), 100)\n",
        "\n",
        "# Calculate the corresponding y values from the Gaussian distribution\n",
        "y = norm.pdf(x, mu, std)\n",
        "\n",
        "# Plot the Gaussian curve\n",
        "plt.plot(x, y, 'r-', linewidth=2, label='Gaussian Curve')\n",
        "\n",
        "# Show legend\n",
        "plt.legend()\n",
        "\n",
        "# Show the plot\n",
        "plt.show()\n"
      ]
    },
    {
      "cell_type": "markdown",
      "metadata": {
        "id": "el2wqGGHjdgk"
      },
      "source": [
        "### End-to-End Distance"
      ]
    },
    {
      "cell_type": "code",
      "execution_count": 126,
      "metadata": {
        "colab": {
          "base_uri": "https://localhost:8080/",
          "height": 206
        },
        "id": "EZxZ42g1THXi",
        "outputId": "5b32bbcb-8fa4-4b32-e0c9-d57e0da98f14"
      },
      "outputs": [
        {
          "data": {
            "text/html": [
              "<div>\n",
              "<style scoped>\n",
              "    .dataframe tbody tr th:only-of-type {\n",
              "        vertical-align: middle;\n",
              "    }\n",
              "\n",
              "    .dataframe tbody tr th {\n",
              "        vertical-align: top;\n",
              "    }\n",
              "\n",
              "    .dataframe thead th {\n",
              "        text-align: right;\n",
              "    }\n",
              "</style>\n",
              "<table border=\"1\" class=\"dataframe\">\n",
              "  <thead>\n",
              "    <tr style=\"text-align: right;\">\n",
              "      <th></th>\n",
              "      <th>Time</th>\n",
              "      <th>val</th>\n",
              "    </tr>\n",
              "  </thead>\n",
              "  <tbody>\n",
              "    <tr>\n",
              "      <th>0</th>\n",
              "      <td>0.02</td>\n",
              "      <td>25.462</td>\n",
              "    </tr>\n",
              "    <tr>\n",
              "      <th>1</th>\n",
              "      <td>0.04</td>\n",
              "      <td>23.279</td>\n",
              "    </tr>\n",
              "    <tr>\n",
              "      <th>2</th>\n",
              "      <td>0.06</td>\n",
              "      <td>23.802</td>\n",
              "    </tr>\n",
              "    <tr>\n",
              "      <th>3</th>\n",
              "      <td>0.08</td>\n",
              "      <td>24.424</td>\n",
              "    </tr>\n",
              "    <tr>\n",
              "      <th>4</th>\n",
              "      <td>0.10</td>\n",
              "      <td>23.163</td>\n",
              "    </tr>\n",
              "  </tbody>\n",
              "</table>\n",
              "</div>"
            ],
            "text/plain": [
              "   Time     val\n",
              "0  0.02  25.462\n",
              "1  0.04  23.279\n",
              "2  0.06  23.802\n",
              "3  0.08  24.424\n",
              "4  0.10  23.163"
            ]
          },
          "execution_count": 126,
          "metadata": {},
          "output_type": "execute_result"
        }
      ],
      "source": [
        "end = pd.read_csv('end-to-end.csv')\n",
        "end['val']=10*end['val']\n",
        "end.head()"
      ]
    },
    {
      "cell_type": "code",
      "execution_count": 127,
      "metadata": {
        "colab": {
          "base_uri": "https://localhost:8080/"
        },
        "id": "gYoo-YjfjqUt",
        "outputId": "f092b74e-4d60-40f2-c207-a0dcaa6db532"
      },
      "outputs": [
        {
          "data": {
            "text/plain": [
              "Index(['Time', 'val'], dtype='object')"
            ]
          },
          "execution_count": 127,
          "metadata": {},
          "output_type": "execute_result"
        }
      ],
      "source": [
        "end.columns"
      ]
    },
    {
      "cell_type": "code",
      "execution_count": 128,
      "metadata": {
        "colab": {
          "base_uri": "https://localhost:8080/",
          "height": 223
        },
        "id": "4aNp4jxwjsOL",
        "outputId": "83bae215-4757-4cd6-c7ea-b2f60408ef93"
      },
      "outputs": [],
      "source": [
        "# end.columns = ['A']\n",
        "# end = end['A'].str.split(expand= True)\n",
        "end.columns = ['Time','val']\n",
        "end['Time'] = end['Time'].astype('float64') # time  ns\n",
        "end['val'] = end['val'].astype('float64')\n"
      ]
    },
    {
      "cell_type": "code",
      "execution_count": 129,
      "metadata": {
        "colab": {
          "base_uri": "https://localhost:8080/",
          "height": 258
        },
        "id": "ryP4UMoJkKMh",
        "outputId": "0f6f96e9-6c23-4aa7-a48f-e5f870897c82"
      },
      "outputs": [
        {
          "name": "stdout",
          "output_type": "stream",
          "text": [
            "Time    float64\n",
            "val     float64\n",
            "dtype: object\n"
          ]
        },
        {
          "data": {
            "text/html": [
              "<div>\n",
              "<style scoped>\n",
              "    .dataframe tbody tr th:only-of-type {\n",
              "        vertical-align: middle;\n",
              "    }\n",
              "\n",
              "    .dataframe tbody tr th {\n",
              "        vertical-align: top;\n",
              "    }\n",
              "\n",
              "    .dataframe thead th {\n",
              "        text-align: right;\n",
              "    }\n",
              "</style>\n",
              "<table border=\"1\" class=\"dataframe\">\n",
              "  <thead>\n",
              "    <tr style=\"text-align: right;\">\n",
              "      <th></th>\n",
              "      <th>Time</th>\n",
              "      <th>val</th>\n",
              "    </tr>\n",
              "  </thead>\n",
              "  <tbody>\n",
              "    <tr>\n",
              "      <th>0</th>\n",
              "      <td>0.02</td>\n",
              "      <td>25.462</td>\n",
              "    </tr>\n",
              "    <tr>\n",
              "      <th>1</th>\n",
              "      <td>0.04</td>\n",
              "      <td>23.279</td>\n",
              "    </tr>\n",
              "    <tr>\n",
              "      <th>2</th>\n",
              "      <td>0.06</td>\n",
              "      <td>23.802</td>\n",
              "    </tr>\n",
              "    <tr>\n",
              "      <th>3</th>\n",
              "      <td>0.08</td>\n",
              "      <td>24.424</td>\n",
              "    </tr>\n",
              "    <tr>\n",
              "      <th>4</th>\n",
              "      <td>0.10</td>\n",
              "      <td>23.163</td>\n",
              "    </tr>\n",
              "  </tbody>\n",
              "</table>\n",
              "</div>"
            ],
            "text/plain": [
              "   Time     val\n",
              "0  0.02  25.462\n",
              "1  0.04  23.279\n",
              "2  0.06  23.802\n",
              "3  0.08  24.424\n",
              "4  0.10  23.163"
            ]
          },
          "execution_count": 129,
          "metadata": {},
          "output_type": "execute_result"
        }
      ],
      "source": [
        "print(end.dtypes)\n",
        "end.head()"
      ]
    },
    {
      "cell_type": "code",
      "execution_count": 130,
      "metadata": {
        "colab": {
          "base_uri": "https://localhost:8080/",
          "height": 300
        },
        "id": "euaku3sEkOYu",
        "outputId": "bc4edb5b-e583-431c-fab1-93abc1a4043f"
      },
      "outputs": [
        {
          "data": {
            "text/html": [
              "<div>\n",
              "<style scoped>\n",
              "    .dataframe tbody tr th:only-of-type {\n",
              "        vertical-align: middle;\n",
              "    }\n",
              "\n",
              "    .dataframe tbody tr th {\n",
              "        vertical-align: top;\n",
              "    }\n",
              "\n",
              "    .dataframe thead th {\n",
              "        text-align: right;\n",
              "    }\n",
              "</style>\n",
              "<table border=\"1\" class=\"dataframe\">\n",
              "  <thead>\n",
              "    <tr style=\"text-align: right;\">\n",
              "      <th></th>\n",
              "      <th>Time</th>\n",
              "      <th>val</th>\n",
              "    </tr>\n",
              "  </thead>\n",
              "  <tbody>\n",
              "    <tr>\n",
              "      <th>count</th>\n",
              "      <td>50000.000000</td>\n",
              "      <td>50000.000000</td>\n",
              "    </tr>\n",
              "    <tr>\n",
              "      <th>mean</th>\n",
              "      <td>500.010000</td>\n",
              "      <td>26.627284</td>\n",
              "    </tr>\n",
              "    <tr>\n",
              "      <th>std</th>\n",
              "      <td>288.678021</td>\n",
              "      <td>5.366731</td>\n",
              "    </tr>\n",
              "    <tr>\n",
              "      <th>min</th>\n",
              "      <td>0.020000</td>\n",
              "      <td>12.948000</td>\n",
              "    </tr>\n",
              "    <tr>\n",
              "      <th>25%</th>\n",
              "      <td>250.015000</td>\n",
              "      <td>22.778750</td>\n",
              "    </tr>\n",
              "    <tr>\n",
              "      <th>50%</th>\n",
              "      <td>500.010000</td>\n",
              "      <td>27.115000</td>\n",
              "    </tr>\n",
              "    <tr>\n",
              "      <th>75%</th>\n",
              "      <td>750.005000</td>\n",
              "      <td>30.727000</td>\n",
              "    </tr>\n",
              "    <tr>\n",
              "      <th>max</th>\n",
              "      <td>1000.000000</td>\n",
              "      <td>42.650000</td>\n",
              "    </tr>\n",
              "  </tbody>\n",
              "</table>\n",
              "</div>"
            ],
            "text/plain": [
              "               Time           val\n",
              "count  50000.000000  50000.000000\n",
              "mean     500.010000     26.627284\n",
              "std      288.678021      5.366731\n",
              "min        0.020000     12.948000\n",
              "25%      250.015000     22.778750\n",
              "50%      500.010000     27.115000\n",
              "75%      750.005000     30.727000\n",
              "max     1000.000000     42.650000"
            ]
          },
          "execution_count": 130,
          "metadata": {},
          "output_type": "execute_result"
        }
      ],
      "source": [
        "end.describe()"
      ]
    },
    {
      "cell_type": "code",
      "execution_count": null,
      "metadata": {},
      "outputs": [],
      "source": []
    }
  ],
  "metadata": {
    "colab": {
      "collapsed_sections": [
        "ev8Cy46VkzOo",
        "XDNvqFTXlGwj",
        "737e8Sp2kpTz",
        "nKOuwT8lk4Gc",
        "nFlEnFn3lOZj",
        "cqCVxESClK1F",
        "el2wqGGHjdgk"
      ],
      "provenance": []
    },
    "kernelspec": {
      "display_name": "Python 3",
      "name": "python3"
    },
    "language_info": {
      "codemirror_mode": {
        "name": "ipython",
        "version": 3
      },
      "file_extension": ".py",
      "mimetype": "text/x-python",
      "name": "python",
      "nbconvert_exporter": "python",
      "pygments_lexer": "ipython3",
      "version": "3.10.5"
    }
  },
  "nbformat": 4,
  "nbformat_minor": 0
}
